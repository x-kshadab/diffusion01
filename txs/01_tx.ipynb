{
  "nbformat": 4,
  "nbformat_minor": 0,
  "metadata": {
    "colab": {
      "provenance": [],
      "authorship_tag": "ABX9TyOpd85B6VJHgSPeHRqQYrw1",
      "include_colab_link": true
    },
    "kernelspec": {
      "name": "python3",
      "display_name": "Python 3"
    },
    "language_info": {
      "name": "python"
    }
  },
  "cells": [
    {
      "cell_type": "markdown",
      "metadata": {
        "id": "view-in-github",
        "colab_type": "text"
      },
      "source": [
        "<a href=\"https://colab.research.google.com/github/x-kshadab/diffusion01/blob/main/txs/01_tx.ipynb\" target=\"_parent\"><img src=\"https://colab.research.google.com/assets/colab-badge.svg\" alt=\"Open In Colab\"/></a>"
      ]
    },
    {
      "cell_type": "code",
      "source": [
        "import urllib.request"
      ],
      "metadata": {
        "id": "w836VD6SBPsx"
      },
      "execution_count": 1,
      "outputs": []
    },
    {
      "cell_type": "code",
      "source": [
        "url=\"https://raw.githubusercontent.com/rasbt/LLMs-from-scratch/main/ch02/01_main-chapter-code/the-verdict.txt\"\n",
        "\n",
        "try:\n",
        "  with urllib.request.urlopen(url) as response:\n",
        "    text_content= response.read().decode('utf-8')\n",
        "except urllib.error.URLError as e:\n",
        "  print(f\"Error in accessing URL : {e}\")\n",
        "except Exception as e:\n",
        "  print(f\"An unknown exception occured: {e}\")"
      ],
      "metadata": {
        "id": "QIDFvnnoBV9C"
      },
      "execution_count": 2,
      "outputs": []
    },
    {
      "cell_type": "code",
      "source": [
        "print(len(text_content))"
      ],
      "metadata": {
        "colab": {
          "base_uri": "https://localhost:8080/"
        },
        "id": "kd0N_1cXCGnm",
        "outputId": "1aaf862b-49f3-4237-8e26-efe587fcfe3c"
      },
      "execution_count": 3,
      "outputs": [
        {
          "output_type": "stream",
          "name": "stdout",
          "text": [
            "20479\n"
          ]
        }
      ]
    },
    {
      "cell_type": "code",
      "source": [
        "import re"
      ],
      "metadata": {
        "id": "fERtjvcrDjm4"
      },
      "execution_count": 4,
      "outputs": []
    },
    {
      "cell_type": "code",
      "source": [
        "rule=r'([,.:;?_!\"()\\']|--|\\s)'"
      ],
      "metadata": {
        "id": "olwx0LfsGzN1"
      },
      "execution_count": 16,
      "outputs": []
    },
    {
      "cell_type": "code",
      "source": [
        "test_text = \"Hello, it's me Sharon!, I am waiting for you --. or am I ?\"\n",
        "test_tokens= re.split(rule, test_text)\n",
        "print(test_tokens)\n",
        "\n",
        "## removing white space\n",
        "test_tokens = [token for token in test_tokens if token.strip()]\n",
        "print(test_tokens)\n"
      ],
      "metadata": {
        "colab": {
          "base_uri": "https://localhost:8080/"
        },
        "id": "TYdPgHZ5CJJG",
        "outputId": "32d4c775-ee36-4d80-febe-4b4d134cf453"
      },
      "execution_count": 17,
      "outputs": [
        {
          "output_type": "stream",
          "name": "stdout",
          "text": [
            "['Hello', ',', '', ' ', 'it', \"'\", 's', ' ', 'me', ' ', 'Sharon', '!', '', ',', '', ' ', 'I', ' ', 'am', ' ', 'waiting', ' ', 'for', ' ', 'you', ' ', '', '--', '', '.', '', ' ', 'or', ' ', 'am', ' ', 'I', ' ', '', '?', '']\n",
            "['Hello', ',', 'it', \"'\", 's', 'me', 'Sharon', '!', ',', 'I', 'am', 'waiting', 'for', 'you', '--', '.', 'or', 'am', 'I', '?']\n"
          ]
        }
      ]
    },
    {
      "cell_type": "code",
      "source": [
        "preprocessed_tokens= re.split(r'([,.:;\"()_!?\\']|--|\\s)', text_content)\n",
        "preprocessed_tokens = [token for token in preprocessed_tokens if token.strip()]"
      ],
      "metadata": {
        "id": "t47IOYN9DzEd"
      },
      "execution_count": 9,
      "outputs": []
    },
    {
      "cell_type": "code",
      "source": [
        "len(preprocessed_tokens)"
      ],
      "metadata": {
        "colab": {
          "base_uri": "https://localhost:8080/"
        },
        "id": "vvOv3ku9EZax",
        "outputId": "fe101b27-4360-407b-d0cf-bf06098a998a"
      },
      "execution_count": 10,
      "outputs": [
        {
          "output_type": "execute_result",
          "data": {
            "text/plain": [
              "4690"
            ]
          },
          "metadata": {},
          "execution_count": 10
        }
      ]
    },
    {
      "cell_type": "code",
      "source": [
        "## set to remove duplicates\n",
        "preprocessed_tokens = sorted(set(preprocessed_tokens))\n",
        "\n",
        "vocab= {token: index for index, token in enumerate(preprocessed_tokens)}\n",
        "\n",
        "for i, item in enumerate(vocab.items()):\n",
        "  print(item)\n",
        "  if i >10:\n",
        "    break"
      ],
      "metadata": {
        "colab": {
          "base_uri": "https://localhost:8080/"
        },
        "id": "8YGQaKxSEbRk",
        "outputId": "82d61535-7734-495a-c467-5adc175a36b6"
      },
      "execution_count": 13,
      "outputs": [
        {
          "output_type": "stream",
          "name": "stdout",
          "text": [
            "('!', 0)\n",
            "('\"', 1)\n",
            "(\"'\", 2)\n",
            "('(', 3)\n",
            "(')', 4)\n",
            "(',', 5)\n",
            "('--', 6)\n",
            "('.', 7)\n",
            "(':', 8)\n",
            "(';', 9)\n",
            "('?', 10)\n",
            "('A', 11)\n"
          ]
        }
      ]
    },
    {
      "cell_type": "code",
      "source": [
        "class SimpleTokenizerV1:\n",
        "  def __init__(self, vocab):\n",
        "    self.str_to_int= vocab\n",
        "    self.int_to_str= {id:token for token, id in vocab.items()}\n",
        "\n",
        "  def encode(self, text):\n",
        "    tokens= re.split(rule, text)\n",
        "    tokens= [token.strip() for token in tokens if token.strip()]\n",
        "    token_ids= [self.str_to_int[token] for token in tokens]\n",
        "    return token_ids\n",
        "\n",
        "  def decode(self, ids):\n",
        "    tokens_initial= [self.int_to_str[id] for id in ids]\n",
        "    tokens_string= \" \".join(tokens_initial)\n",
        "    ## adding spaces\n",
        "    text=re.sub(r'\\s+([,.?!\"()\\'])', r'\\1', tokens_string)\n",
        "    return text\n"
      ],
      "metadata": {
        "id": "jO-fB5-EF-OG"
      },
      "execution_count": 25,
      "outputs": []
    },
    {
      "cell_type": "code",
      "source": [
        "tokenizer= SimpleTokenizerV1(vocab)\n",
        "test_text = \"\"\"\"It's the last he painted, you know,\" Mrs. Gisburn said with pardonable pride.\"\"\"\n",
        "test_token_ids= tokenizer.encode(test_text)\n",
        "print(test_token_ids)"
      ],
      "metadata": {
        "colab": {
          "base_uri": "https://localhost:8080/"
        },
        "id": "_Dolkn2NIAVz",
        "outputId": "a2f80467-a67f-4b99-8e74-7d66f76e7a19"
      },
      "execution_count": 26,
      "outputs": [
        {
          "output_type": "stream",
          "name": "stdout",
          "text": [
            "[1, 56, 2, 850, 988, 602, 533, 746, 5, 1126, 596, 5, 1, 67, 7, 38, 851, 1108, 754, 793, 7]\n"
          ]
        }
      ]
    },
    {
      "cell_type": "code",
      "source": [
        "print(tokenizer.decode(test_token_ids))"
      ],
      "metadata": {
        "colab": {
          "base_uri": "https://localhost:8080/"
        },
        "id": "mmY2MC7lIG8N",
        "outputId": "85ae3afc-00db-41b2-a4ec-61deb48d1d0a"
      },
      "execution_count": 27,
      "outputs": [
        {
          "output_type": "stream",
          "name": "stdout",
          "text": [
            "\" It' s the last he painted, you know,\" Mrs. Gisburn said with pardonable pride.\n"
          ]
        }
      ]
    },
    {
      "cell_type": "code",
      "source": [
        "## Adding special tokens\n",
        "print(len(preprocessed_tokens))\n",
        "preprocessed_tokens.extend([\"<|endoftext|>\",\"<|unk|>\"])\n",
        "print(len(preprocessed_tokens))"
      ],
      "metadata": {
        "colab": {
          "base_uri": "https://localhost:8080/"
        },
        "id": "6w-WQfKnIKLs",
        "outputId": "ddc3ec5f-2cf7-49db-b05a-e92bb69fb4ee"
      },
      "execution_count": 28,
      "outputs": [
        {
          "output_type": "stream",
          "name": "stdout",
          "text": [
            "1132\n",
            "1134\n"
          ]
        }
      ]
    },
    {
      "cell_type": "code",
      "source": [
        "vocab= {token: index for index, token in enumerate(preprocessed_tokens)}\n",
        "for i, item in enumerate(list(vocab.items())[-5:]):\n",
        "  print(item)"
      ],
      "metadata": {
        "colab": {
          "base_uri": "https://localhost:8080/"
        },
        "id": "2-iOSRwlIkWi",
        "outputId": "bbe78208-24f3-4663-ca50-d9a8f63e456c"
      },
      "execution_count": 29,
      "outputs": [
        {
          "output_type": "stream",
          "name": "stdout",
          "text": [
            "('younger', 1127)\n",
            "('your', 1128)\n",
            "('yourself', 1129)\n",
            "('<|endoftext|>', 1132)\n",
            "('<|unk|>', 1133)\n"
          ]
        }
      ]
    },
    {
      "cell_type": "code",
      "source": [
        "class SimpleTokenizerV2:\n",
        "  def __init__(self, vocab):\n",
        "    self.str_to_int= vocab\n",
        "    self.int_to_str= {index:token for token, index in vocab.items()}\n",
        "\n",
        "  def encode(self, text):\n",
        "    tokens = re.split(rule, text)\n",
        "    print(tokens)\n",
        "    tokens= [token.strip() for token in tokens if token.strip()]\n",
        "    tokens = [token if token in self.str_to_int else \"<|unk|>\" for token in tokens]\n",
        "    ids= [self.str_to_int[token] for token in tokens]\n",
        "    return ids\n",
        "\n",
        "  def decode(self, ids):\n",
        "    tokens_initial = [self.int_to_str[id] for id in ids]\n",
        "    tokens_string = \" \".join(tokens_initial)\n",
        "    ## adding spaces\n",
        "    text=re.sub(r'\\s+([,.?!\"()\\'])', r'\\1', tokens_string)\n",
        "    return text"
      ],
      "metadata": {
        "id": "_FDLwyj1JQ69"
      },
      "execution_count": 50,
      "outputs": []
    },
    {
      "cell_type": "code",
      "source": [
        "test_text_1=\"Hello, do you like tea?\"\n",
        "test_text_2 = \"In the sunlit terraces of the palace.\"\n",
        "test_text= \"  <|endoftext|> \".join((test_text_1, test_text_2))\n",
        "print(test_text)"
      ],
      "metadata": {
        "colab": {
          "base_uri": "https://localhost:8080/"
        },
        "id": "L9LBIzKGOtFM",
        "outputId": "d9d8296f-4b27-40d4-a524-33f52a1f6668"
      },
      "execution_count": 51,
      "outputs": [
        {
          "output_type": "stream",
          "name": "stdout",
          "text": [
            "Hello, do you like tea?  <|endoftext|> In the sunlit terraces of the palace.\n"
          ]
        }
      ]
    },
    {
      "cell_type": "code",
      "source": [
        "tokenizerV2= SimpleTokenizerV2(vocab)\n",
        "text_to_ids= tokenizerV2.encode(test_text)\n",
        "print(text_to_ids)\n",
        "print(tokenizerV2.decode(text_to_ids))"
      ],
      "metadata": {
        "colab": {
          "base_uri": "https://localhost:8080/"
        },
        "id": "TRNyJ3bgQG_F",
        "outputId": "e44d59e9-beb2-4c22-8f81-1936fb33bf1b"
      },
      "execution_count": 52,
      "outputs": [
        {
          "output_type": "stream",
          "name": "stdout",
          "text": [
            "['Hello', ',', '', ' ', 'do', ' ', 'you', ' ', 'like', ' ', 'tea', '?', '', ' ', '', ' ', '<|endoftext|>', ' ', 'In', ' ', 'the', ' ', 'sunlit', ' ', 'terraces', ' ', 'of', ' ', 'the', ' ', 'palace', '.', '']\n",
            "[1133, 5, 355, 1126, 628, 975, 10, 1132, 55, 988, 956, 984, 722, 988, 1133, 7]\n",
            "<|unk|>, do you like tea? <|endoftext|> In the sunlit terraces of the <|unk|>.\n"
          ]
        }
      ]
    },
    {
      "cell_type": "code",
      "source": [
        "import tiktoken\n",
        "tiktoken.__version__"
      ],
      "metadata": {
        "colab": {
          "base_uri": "https://localhost:8080/",
          "height": 36
        },
        "id": "go4Y88WWQRUG",
        "outputId": "9dce557b-107c-4cf4-a94f-2598a9af11c0"
      },
      "execution_count": 54,
      "outputs": [
        {
          "output_type": "execute_result",
          "data": {
            "text/plain": [
              "'0.11.0'"
            ],
            "application/vnd.google.colaboratory.intrinsic+json": {
              "type": "string"
            }
          },
          "metadata": {},
          "execution_count": 54
        }
      ]
    },
    {
      "cell_type": "code",
      "source": [
        "tokenizer = tiktoken.get_encoding('gpt2')"
      ],
      "metadata": {
        "id": "2d8gPFsLfYWQ"
      },
      "execution_count": 56,
      "outputs": []
    },
    {
      "cell_type": "code",
      "source": [
        "text = \"Hello, do you like tea? <|endoftext|> In the sunlit terraces of someunknownPlace.\"\n",
        "ids=tokenizer.encode(text, allowed_special={'<|endoftext|>'})\n",
        "print(ids)\n"
      ],
      "metadata": {
        "colab": {
          "base_uri": "https://localhost:8080/"
        },
        "id": "_vV8pjRbfuXi",
        "outputId": "82e3bc27-b2e5-4625-d851-1819d7208ee8"
      },
      "execution_count": 65,
      "outputs": [
        {
          "output_type": "stream",
          "name": "stdout",
          "text": [
            "[15496, 11, 466, 345, 588, 8887, 30, 220, 50256, 554, 262, 4252, 18250, 8812, 2114, 286, 617, 34680, 27271, 13]\n"
          ]
        }
      ]
    },
    {
      "cell_type": "code",
      "source": [
        "print(tokenizer.decode(ids))"
      ],
      "metadata": {
        "colab": {
          "base_uri": "https://localhost:8080/"
        },
        "id": "5Ab_cvQTf0Rz",
        "outputId": "ab3192bc-2cf2-4f34-9ed7-6f3531986ad1"
      },
      "execution_count": 66,
      "outputs": [
        {
          "output_type": "stream",
          "name": "stdout",
          "text": [
            "Hello, do you like tea? <|endoftext|> In the sunlit terraces of someunknownPlace.\n"
          ]
        }
      ]
    },
    {
      "cell_type": "code",
      "source": [],
      "metadata": {
        "id": "aa7MRbcgf1Fg"
      },
      "execution_count": null,
      "outputs": []
    }
  ]
}